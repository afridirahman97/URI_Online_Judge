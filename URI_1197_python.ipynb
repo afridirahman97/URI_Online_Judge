{
  "nbformat": 4,
  "nbformat_minor": 0,
  "metadata": {
    "colab": {
      "name": "URI_1197_python.ipynb",
      "provenance": [],
      "authorship_tag": "ABX9TyMldoBExXCbefaDfy8lx0bs",
      "include_colab_link": true
    },
    "kernelspec": {
      "name": "python3",
      "display_name": "Python 3"
    },
    "language_info": {
      "name": "python"
    }
  },
  "cells": [
    {
      "cell_type": "markdown",
      "metadata": {
        "id": "view-in-github",
        "colab_type": "text"
      },
      "source": [
        "<a href=\"https://colab.research.google.com/github/afridirahman97/URI_Online_Judge/blob/master/URI_1197_python.ipynb\" target=\"_parent\"><img src=\"https://colab.research.google.com/assets/colab-badge.svg\" alt=\"Open In Colab\"/></a>"
      ]
    },
    {
      "cell_type": "code",
      "metadata": {
        "colab": {
          "base_uri": "https://localhost:8080/"
        },
        "id": "WoTtrRe9NBrI",
        "outputId": "a3fe10ef-336c-4c06-f1eb-d2802e916a9e"
      },
      "source": [
        "import math\n",
        "\n",
        "def calc_acceleration(v, t):\n",
        "    if(t == 0):\n",
        "        return 0\n",
        "    return v/t\n",
        "\n",
        "def calc_distance(v0, t, a):\n",
        "    return v0*(2*t)+(a*math.pow(2*t, 2))/2\n",
        "\n",
        "while True:\n",
        "    try:\n",
        "        v, t = [int(x) for x in input().split()]\n",
        "        #a = calc_acceleration(v, t)\n",
        "        #print(calc_distance(v, t, a))\n",
        "        print(v*t*2)\n",
        "    except EOFError:\n",
        "        break\n",
        "\n"
      ],
      "execution_count": null,
      "outputs": [
        {
          "output_type": "stream",
          "text": [
            "5 12 \n",
            "120\n"
          ],
          "name": "stdout"
        }
      ]
    }
  ]
}