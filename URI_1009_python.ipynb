{
  "nbformat": 4,
  "nbformat_minor": 0,
  "metadata": {
    "colab": {
      "name": "URI_1009_python.ipynb",
      "provenance": [],
      "authorship_tag": "ABX9TyOourS7uGQC/UMqznlyIx1r",
      "include_colab_link": true
    },
    "kernelspec": {
      "name": "python3",
      "display_name": "Python 3"
    },
    "language_info": {
      "name": "python"
    }
  },
  "cells": [
    {
      "cell_type": "markdown",
      "metadata": {
        "id": "view-in-github",
        "colab_type": "text"
      },
      "source": [
        "<a href=\"https://colab.research.google.com/github/afridirahman97/URI_Online_Judge/blob/master/URI_1009_python.ipynb\" target=\"_parent\"><img src=\"https://colab.research.google.com/assets/colab-badge.svg\" alt=\"Open In Colab\"/></a>"
      ]
    },
    {
      "cell_type": "code",
      "metadata": {
        "colab": {
          "base_uri": "https://localhost:8080/"
        },
        "id": "pNo9vSRVqyK6",
        "outputId": "43c58f08-b644-4dd5-91bf-c099dd20b462"
      },
      "source": [
        "name = input()\n",
        "salfixo = float(input())\n",
        "qtdevendas = float(input())\n",
        "\n",
        "bonus = float(qtdevendas * (15/100))\n",
        "\n",
        "total = salfixo + bonus\n",
        "\n",
        "print(\"TOTAL = R$ %0.2f\" %total)"
      ],
      "execution_count": 2,
      "outputs": [
        {
          "output_type": "stream",
          "text": [
            "JOAO\n",
            "500.00\n",
            "1230.30\n",
            "TOTAL = R$ 684.54\n"
          ],
          "name": "stdout"
        }
      ]
    }
  ]
}