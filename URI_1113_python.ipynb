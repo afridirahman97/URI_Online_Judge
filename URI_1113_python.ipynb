{
  "nbformat": 4,
  "nbformat_minor": 0,
  "metadata": {
    "colab": {
      "name": "URI_1113_python.ipynb",
      "provenance": [],
      "authorship_tag": "ABX9TyNg+A3iVOgwNA4TPDabcu6q",
      "include_colab_link": true
    },
    "kernelspec": {
      "name": "python3",
      "display_name": "Python 3"
    },
    "language_info": {
      "name": "python"
    }
  },
  "cells": [
    {
      "cell_type": "markdown",
      "metadata": {
        "id": "view-in-github",
        "colab_type": "text"
      },
      "source": [
        "<a href=\"https://colab.research.google.com/github/afridirahman97/URI_Online_Judge/blob/master/URI_1113_python.ipynb\" target=\"_parent\"><img src=\"https://colab.research.google.com/assets/colab-badge.svg\" alt=\"Open In Colab\"/></a>"
      ]
    },
    {
      "cell_type": "code",
      "metadata": {
        "colab": {
          "base_uri": "https://localhost:8080/"
        },
        "id": "osDBULP_dZEt",
        "outputId": "76467ee9-ae0b-4e67-d856-a71090b90a07"
      },
      "source": [
        "while True:\n",
        "    x,y = list(map(int,input().split()))\n",
        "    \n",
        "    if(x == y):\n",
        "        break\n",
        "    \n",
        "    if(x > y):\n",
        "        print(\"Decrescente\")\n",
        "    else:\n",
        "        print(\"Crescente\")"
      ],
      "execution_count": null,
      "outputs": [
        {
          "output_type": "stream",
          "text": [
            "2 3 \n",
            "Crescente\n"
          ],
          "name": "stdout"
        }
      ]
    }
  ]
}