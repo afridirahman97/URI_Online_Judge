{
  "nbformat": 4,
  "nbformat_minor": 0,
  "metadata": {
    "colab": {
      "name": "URI_2581_python.ipynb",
      "provenance": [],
      "authorship_tag": "ABX9TyNsFgOKQPLHq540GkTuYABI",
      "include_colab_link": true
    },
    "kernelspec": {
      "name": "python3",
      "display_name": "Python 3"
    },
    "language_info": {
      "name": "python"
    }
  },
  "cells": [
    {
      "cell_type": "markdown",
      "metadata": {
        "id": "view-in-github",
        "colab_type": "text"
      },
      "source": [
        "<a href=\"https://colab.research.google.com/github/afridirahman97/beecrowd/blob/master/URI_2581_python.ipynb\" target=\"_parent\"><img src=\"https://colab.research.google.com/assets/colab-badge.svg\" alt=\"Open In Colab\"/></a>"
      ]
    },
    {
      "cell_type": "code",
      "execution_count": 2,
      "metadata": {
        "colab": {
          "base_uri": "https://localhost:8080/"
        },
        "id": "xSfMCz3oIkPM",
        "outputId": "ba993063-13ed-45bb-bf07-fad47cdc55fb"
      },
      "outputs": [
        {
          "output_type": "stream",
          "name": "stdout",
          "text": [
            "3\n",
            "Who are you ?\n",
            "I am Toorg!\n",
            "what are you ?\n",
            "I am Toorg!\n",
            "what you do ?\n",
            "I am Toorg!\n"
          ]
        }
      ],
      "source": [
        "for i in range(int(input())):\n",
        "    input()\n",
        "    print(\"I am Toorg!\")"
      ]
    }
  ]
}