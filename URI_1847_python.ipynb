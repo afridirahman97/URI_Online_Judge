{
  "nbformat": 4,
  "nbformat_minor": 0,
  "metadata": {
    "colab": {
      "name": "URI_1847_python.ipynb",
      "provenance": [],
      "authorship_tag": "ABX9TyNKQGxJt9xxoDBJJWA1lDMJ",
      "include_colab_link": true
    },
    "kernelspec": {
      "name": "python3",
      "display_name": "Python 3"
    },
    "language_info": {
      "name": "python"
    }
  },
  "cells": [
    {
      "cell_type": "markdown",
      "metadata": {
        "id": "view-in-github",
        "colab_type": "text"
      },
      "source": [
        "<a href=\"https://colab.research.google.com/github/afridirahman97/beecrowd/blob/master/URI_1847_python.ipynb\" target=\"_parent\"><img src=\"https://colab.research.google.com/assets/colab-badge.svg\" alt=\"Open In Colab\"/></a>"
      ]
    },
    {
      "cell_type": "code",
      "execution_count": 6,
      "metadata": {
        "colab": {
          "base_uri": "https://localhost:8080/"
        },
        "id": "2IL5bi5ndfvN",
        "outputId": "d7c7e873-06ef-44f5-8b88-f3999ef0b18a"
      },
      "outputs": [
        {
          "output_type": "stream",
          "name": "stdout",
          "text": [
            "20 10 12\n",
            ":)\n"
          ]
        }
      ],
      "source": [
        "x,y,z=map(int,input().split())\n",
        "if x>y:\n",
        "    if y>z:\n",
        "        if y-z<x-y:print(\":)\")\n",
        "        else:print(\":(\")\n",
        "    else:print(\":)\")\n",
        "elif y>x:\n",
        "    if z>y:\n",
        "        if z-y<y-x:print(\":(\")\n",
        "        else:print(\":)\")\n",
        "    else:print(\":(\")\n",
        "elif z>y:print(\":)\")\n",
        "else:print(\":(\")\n",
        "\n"
      ]
    }
  ]
}