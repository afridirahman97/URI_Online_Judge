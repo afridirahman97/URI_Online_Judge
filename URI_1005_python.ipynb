{
  "nbformat": 4,
  "nbformat_minor": 0,
  "metadata": {
    "colab": {
      "name": "URI_1005_python.ipynb",
      "provenance": [],
      "authorship_tag": "ABX9TyO2l9kxEDYuF7KAM7r6Xwaw",
      "include_colab_link": true
    },
    "kernelspec": {
      "name": "python3",
      "display_name": "Python 3"
    },
    "language_info": {
      "name": "python"
    }
  },
  "cells": [
    {
      "cell_type": "markdown",
      "metadata": {
        "id": "view-in-github",
        "colab_type": "text"
      },
      "source": [
        "<a href=\"https://colab.research.google.com/github/afridirahman97/URI_Online_Judge/blob/master/URI_1005_python.ipynb\" target=\"_parent\"><img src=\"https://colab.research.google.com/assets/colab-badge.svg\" alt=\"Open In Colab\"/></a>"
      ]
    },
    {
      "cell_type": "code",
      "metadata": {
        "colab": {
          "base_uri": "https://localhost:8080/"
        },
        "id": "t5A8s9ZPcI-v",
        "outputId": "2d9e6310-260f-4360-9d87-f646d56cd786"
      },
      "source": [
        "input1 = float(input())\n",
        "input2 = float(input())\n",
        "\n",
        "media = (((input1 * 3.5) + (input2 * 7.5)) / 11)\n",
        "\n",
        "print(\"MEDIA = %0.5f\" %media)"
      ],
      "execution_count": 3,
      "outputs": [
        {
          "output_type": "stream",
          "text": [
            "5.0\n",
            "7.1\n",
            "MEDIA = 6.43182\n"
          ],
          "name": "stdout"
        }
      ]
    }
  ]
}