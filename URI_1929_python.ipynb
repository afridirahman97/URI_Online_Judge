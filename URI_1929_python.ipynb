{
  "nbformat": 4,
  "nbformat_minor": 0,
  "metadata": {
    "colab": {
      "name": "URI_1929_python.ipynb",
      "provenance": [],
      "authorship_tag": "ABX9TyMZz5dVTgET63rQEyUBSqtX",
      "include_colab_link": true
    },
    "kernelspec": {
      "name": "python3",
      "display_name": "Python 3"
    },
    "language_info": {
      "name": "python"
    }
  },
  "cells": [
    {
      "cell_type": "markdown",
      "metadata": {
        "id": "view-in-github",
        "colab_type": "text"
      },
      "source": [
        "<a href=\"https://colab.research.google.com/github/afridirahman97/URI_Online_Judge/blob/master/URI_1929_python.ipynb\" target=\"_parent\"><img src=\"https://colab.research.google.com/assets/colab-badge.svg\" alt=\"Open In Colab\"/></a>"
      ]
    },
    {
      "cell_type": "code",
      "metadata": {
        "colab": {
          "base_uri": "https://localhost:8080/"
        },
        "id": "0xJaSpoVwFKM",
        "outputId": "d492ffc9-f35f-4f35-8826-962916b61c0a"
      },
      "source": [
        "def is_triangle(a, b, c):\n",
        "    return (a + b > c) and (b + c > a) and (a + c > b)\n",
        "\n",
        "\n",
        "A, B, C, D = list(map(int, input().split()))\n",
        "if is_triangle(A, B, C):\n",
        "    print(\"S\")\n",
        "elif is_triangle(A, B, D):\n",
        "    print(\"S\")\n",
        "elif is_triangle(A, C, D):\n",
        "    print(\"S\")\n",
        "elif is_triangle(B, C, D):\n",
        "    print(\"S\")\n",
        "else:\n",
        "    print(\"N\")\n"
      ],
      "execution_count": 17,
      "outputs": [
        {
          "output_type": "stream",
          "text": [
            "6 9 22 15\n",
            "S\n"
          ],
          "name": "stdout"
        }
      ]
    }
  ]
}