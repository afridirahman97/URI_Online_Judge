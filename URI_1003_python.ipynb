{
  "nbformat": 4,
  "nbformat_minor": 0,
  "metadata": {
    "colab": {
      "name": "URI_1003_python.ipynb",
      "provenance": [],
      "authorship_tag": "ABX9TyP2ZPWUFJyI8kPzU2aa/7DI",
      "include_colab_link": true
    },
    "kernelspec": {
      "name": "python3",
      "display_name": "Python 3"
    },
    "language_info": {
      "name": "python"
    }
  },
  "cells": [
    {
      "cell_type": "markdown",
      "metadata": {
        "id": "view-in-github",
        "colab_type": "text"
      },
      "source": [
        "<a href=\"https://colab.research.google.com/github/afridirahman97/URI_Online_Judge/blob/master/URI_1003_python.ipynb\" target=\"_parent\"><img src=\"https://colab.research.google.com/assets/colab-badge.svg\" alt=\"Open In Colab\"/></a>"
      ]
    },
    {
      "cell_type": "code",
      "metadata": {
        "colab": {
          "base_uri": "https://localhost:8080/"
        },
        "id": "324XruDvZMLe",
        "outputId": "5237da1c-090e-4e2a-b64a-6717b37dc623"
      },
      "source": [
        "a = input()\n",
        "b = input()\n",
        "X = int(a) + int(b)\n",
        "print (\"SOMA =\",X)"
      ],
      "execution_count": 1,
      "outputs": [
        {
          "output_type": "stream",
          "text": [
            "10\n",
            "20\n",
            "SOMA = 30\n"
          ],
          "name": "stdout"
        }
      ]
    }
  ]
}