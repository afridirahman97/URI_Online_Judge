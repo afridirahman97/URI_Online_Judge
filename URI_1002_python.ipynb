{
  "nbformat": 4,
  "nbformat_minor": 0,
  "metadata": {
    "colab": {
      "name": "URI_1002_python.ipynb",
      "provenance": [],
      "authorship_tag": "ABX9TyMFHYobu7EDIGMbeHcLg/90",
      "include_colab_link": true
    },
    "kernelspec": {
      "name": "python3",
      "display_name": "Python 3"
    },
    "language_info": {
      "name": "python"
    }
  },
  "cells": [
    {
      "cell_type": "markdown",
      "metadata": {
        "id": "view-in-github",
        "colab_type": "text"
      },
      "source": [
        "<a href=\"https://colab.research.google.com/github/afridirahman97/URI_Online_Judge/blob/master/URI_1002_python.ipynb\" target=\"_parent\"><img src=\"https://colab.research.google.com/assets/colab-badge.svg\" alt=\"Open In Colab\"/></a>"
      ]
    },
    {
      "cell_type": "code",
      "metadata": {
        "colab": {
          "base_uri": "https://localhost:8080/"
        },
        "id": "l0_ksgpxW8bG",
        "outputId": "2b5566d2-22f6-4750-f19c-a317bb13ab98"
      },
      "source": [
        "radius = float(input())\n",
        "\n",
        "area = (radius * radius) * 3.14159 \n",
        "\n",
        "print(\"A=%0.4f\" %area)"
      ],
      "execution_count": 7,
      "outputs": [
        {
          "output_type": "stream",
          "text": [
            "2.00\n",
            "A=12.5664\n"
          ],
          "name": "stdout"
        }
      ]
    }
  ]
}