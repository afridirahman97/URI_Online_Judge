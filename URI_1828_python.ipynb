{
  "nbformat": 4,
  "nbformat_minor": 0,
  "metadata": {
    "colab": {
      "name": "URI_1828_python.ipynb",
      "provenance": [],
      "authorship_tag": "ABX9TyOpFBBacgR558SVOmU+kdVp",
      "include_colab_link": true
    },
    "kernelspec": {
      "name": "python3",
      "display_name": "Python 3"
    },
    "language_info": {
      "name": "python"
    }
  },
  "cells": [
    {
      "cell_type": "markdown",
      "metadata": {
        "id": "view-in-github",
        "colab_type": "text"
      },
      "source": [
        "<a href=\"https://colab.research.google.com/github/afridirahman97/URI_Online_Judge/blob/master/URI_1828_python.ipynb\" target=\"_parent\"><img src=\"https://colab.research.google.com/assets/colab-badge.svg\" alt=\"Open In Colab\"/></a>"
      ]
    },
    {
      "cell_type": "code",
      "metadata": {
        "colab": {
          "base_uri": "https://localhost:8080/"
        },
        "id": "f5tcTo4Jsy7r",
        "outputId": "ebc12fbd-a6df-4eb9-a5bc-f5f8640b94d9"
      },
      "source": [
        "for i in range(int(input(\"\"))):\n",
        "    j1, j2 = input(\"\").split()\n",
        "\n",
        "    if j1 == j2:\n",
        "        win = \"De novo!\"\n",
        "    elif j1 == \"pedra\":\n",
        "        if j2 == \"tesoura\" or j2 == \"lagarto\":\n",
        "            win = j1\n",
        "        else:\n",
        "            win = j2\n",
        "    elif j1 == \"papel\":\n",
        "        if j2 == \"pedra\" or j2 == \"Spock\":\n",
        "            win = j1\n",
        "        else:\n",
        "            win = j2\n",
        "    elif j1 == \"tesoura\":\n",
        "        if j2 == \"lagarto\" or j2 == \"papel\":\n",
        "            win = j1\n",
        "        else:\n",
        "            win = j2\n",
        "    elif j1 == \"lagarto\":\n",
        "        if j2 == \"Spock\" or j2 == \"papel\":\n",
        "            win = j1\n",
        "        else:\n",
        "            win = j2\n",
        "    elif j1 == \"Spock\":\n",
        "        if j2 == \"tesoura\" or j2 == \"pedra\":\n",
        "            win = j1\n",
        "        else:\n",
        "            win = j2\n",
        "\n",
        "    if win == j1:\n",
        "        win = \"Bazinga!\"\n",
        "    elif win == j2:\n",
        "        win = \"Raj trapaceou!\"\n",
        "\n",
        "    print(\"Caso #%i:\" %(i + 1), win)"
      ],
      "execution_count": 1,
      "outputs": [
        {
          "output_type": "stream",
          "text": [
            "3\n",
            "papel pedra\n",
            "Caso #1: Bazinga!\n",
            "lagarto tesoura\n",
            "Caso #2: Raj trapaceou!\n",
            "Spock Spock\n",
            "Caso #3: De novo!\n"
          ],
          "name": "stdout"
        }
      ]
    }
  ]
}