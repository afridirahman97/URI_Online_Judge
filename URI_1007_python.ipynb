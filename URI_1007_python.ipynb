{
  "nbformat": 4,
  "nbformat_minor": 0,
  "metadata": {
    "colab": {
      "name": "URI_1007_python.ipynb",
      "provenance": [],
      "authorship_tag": "ABX9TyP7QnKoz7Tmld7kMYugM4fA",
      "include_colab_link": true
    },
    "kernelspec": {
      "name": "python3",
      "display_name": "Python 3"
    },
    "language_info": {
      "name": "python"
    }
  },
  "cells": [
    {
      "cell_type": "markdown",
      "metadata": {
        "id": "view-in-github",
        "colab_type": "text"
      },
      "source": [
        "<a href=\"https://colab.research.google.com/github/afridirahman97/URI_Online_Judge/blob/master/URI_1007_python.ipynb\" target=\"_parent\"><img src=\"https://colab.research.google.com/assets/colab-badge.svg\" alt=\"Open In Colab\"/></a>"
      ]
    },
    {
      "cell_type": "code",
      "metadata": {
        "colab": {
          "base_uri": "https://localhost:8080/"
        },
        "id": "YHp19eXZiVgq",
        "outputId": "7f915ab3-8239-4ed7-dc9e-0552da8b5a97"
      },
      "source": [
        "a= int(input())\n",
        "b= int(input())\n",
        "c= int(input())\n",
        "d= int(input())\n",
        "\n",
        "difference=((a * b) - (c * d))\n",
        "\n",
        "print(\"DIFERENCA = %d\" %difference)"
      ],
      "execution_count": 2,
      "outputs": [
        {
          "output_type": "stream",
          "text": [
            "5\n",
            "6\n",
            "7\n",
            "8\n",
            "DIFERENCA = -26\n"
          ],
          "name": "stdout"
        }
      ]
    }
  ]
}