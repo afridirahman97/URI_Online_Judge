{
  "nbformat": 4,
  "nbformat_minor": 0,
  "metadata": {
    "colab": {
      "name": "URI_1014_python.ipynb",
      "provenance": [],
      "authorship_tag": "ABX9TyPDxei84khglUGaMaAk6mbP",
      "include_colab_link": true
    },
    "kernelspec": {
      "name": "python3",
      "display_name": "Python 3"
    },
    "language_info": {
      "name": "python"
    }
  },
  "cells": [
    {
      "cell_type": "markdown",
      "metadata": {
        "id": "view-in-github",
        "colab_type": "text"
      },
      "source": [
        "<a href=\"https://colab.research.google.com/github/afridirahman97/URI_Online_Judge/blob/master/URI_1014_python.ipynb\" target=\"_parent\"><img src=\"https://colab.research.google.com/assets/colab-badge.svg\" alt=\"Open In Colab\"/></a>"
      ]
    },
    {
      "cell_type": "code",
      "metadata": {
        "colab": {
          "base_uri": "https://localhost:8080/"
        },
        "id": "MGMfeWZeiqSt",
        "outputId": "99659c87-43ed-4c73-b091-907cf492bdc4"
      },
      "source": [
        "a = input()\n",
        "b = input()\n",
        "\n",
        "a_int = int(a)\n",
        "b_float = float(b)\n",
        "\n",
        "c = float(a_int/b_float)\n",
        "\n",
        "print(format(c, \".3f\"),\"km/l\")"
      ],
      "execution_count": 9,
      "outputs": [
        {
          "output_type": "stream",
          "text": [
            "4554\n",
            "464.6\n",
            "9.802 km/l\n"
          ],
          "name": "stdout"
        }
      ]
    }
  ]
}