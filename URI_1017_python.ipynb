{
  "nbformat": 4,
  "nbformat_minor": 0,
  "metadata": {
    "colab": {
      "name": "URI_1017_python.ipynb",
      "provenance": [],
      "authorship_tag": "ABX9TyNR070UHBegTxaTsiXCXAoh",
      "include_colab_link": true
    },
    "kernelspec": {
      "name": "python3",
      "display_name": "Python 3"
    },
    "language_info": {
      "name": "python"
    }
  },
  "cells": [
    {
      "cell_type": "markdown",
      "metadata": {
        "id": "view-in-github",
        "colab_type": "text"
      },
      "source": [
        "<a href=\"https://colab.research.google.com/github/afridirahman97/URI_Online_Judge/blob/master/URI_1017_python.ipynb\" target=\"_parent\"><img src=\"https://colab.research.google.com/assets/colab-badge.svg\" alt=\"Open In Colab\"/></a>"
      ]
    },
    {
      "cell_type": "code",
      "metadata": {
        "id": "U9M7gYx4RafH",
        "colab": {
          "base_uri": "https://localhost:8080/"
        },
        "outputId": "df5ae509-7f61-4c63-ded7-d367b6dab5e3"
      },
      "source": [
        "a = input()\n",
        "b = input()\n",
        "a_int = int(a)\n",
        "b_int = int(b)\n",
        "c = int(a_int*b_int) \n",
        "\n",
        "d = float(c/12)\n",
        "\n",
        "print(format(d, \".3f\"))"
      ],
      "execution_count": 5,
      "outputs": [
        {
          "output_type": "stream",
          "text": [
            "85\n",
            "10\n",
            "70.833\n"
          ],
          "name": "stdout"
        }
      ]
    }
  ]
}