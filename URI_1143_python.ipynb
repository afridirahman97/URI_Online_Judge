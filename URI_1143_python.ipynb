{
  "nbformat": 4,
  "nbformat_minor": 0,
  "metadata": {
    "colab": {
      "name": "URI_1143_python.ipynb",
      "provenance": [],
      "authorship_tag": "ABX9TyMT7ouZ1umVW+MAJNE5gbxz",
      "include_colab_link": true
    },
    "kernelspec": {
      "name": "python3",
      "display_name": "Python 3"
    },
    "language_info": {
      "name": "python"
    }
  },
  "cells": [
    {
      "cell_type": "markdown",
      "metadata": {
        "id": "view-in-github",
        "colab_type": "text"
      },
      "source": [
        "<a href=\"https://colab.research.google.com/github/afridirahman97/URI_Online_Judge/blob/master/URI_1143_python.ipynb\" target=\"_parent\"><img src=\"https://colab.research.google.com/assets/colab-badge.svg\" alt=\"Open In Colab\"/></a>"
      ]
    },
    {
      "cell_type": "code",
      "metadata": {
        "colab": {
          "base_uri": "https://localhost:8080/"
        },
        "id": "5B8eR7pHkt3e",
        "outputId": "6542324d-35ab-4349-86f3-6e191cf2307a"
      },
      "source": [
        "n = int(input())\n",
        "c = 1\n",
        "\n",
        "for i in range(n):\n",
        "    print(\"%d %d %d\" %(c,c**2,c**3))\n",
        "    c += 1"
      ],
      "execution_count": 1,
      "outputs": [
        {
          "output_type": "stream",
          "text": [
            "5\n",
            "1 1 1\n",
            "2 4 8\n",
            "3 9 27\n",
            "4 16 64\n",
            "5 25 125\n"
          ],
          "name": "stdout"
        }
      ]
    }
  ]
}