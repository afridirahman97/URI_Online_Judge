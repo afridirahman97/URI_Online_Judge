{
  "nbformat": 4,
  "nbformat_minor": 0,
  "metadata": {
    "colab": {
      "name": "URI_1221_python.ipynb",
      "provenance": [],
      "authorship_tag": "ABX9TyOsyy1CKwZLGhQig1mfqG0y",
      "include_colab_link": true
    },
    "kernelspec": {
      "name": "python3",
      "display_name": "Python 3"
    },
    "language_info": {
      "name": "python"
    }
  },
  "cells": [
    {
      "cell_type": "markdown",
      "metadata": {
        "id": "view-in-github",
        "colab_type": "text"
      },
      "source": [
        "<a href=\"https://colab.research.google.com/github/afridirahman97/URI_Online_Judge/blob/master/URI_1221_python.ipynb\" target=\"_parent\"><img src=\"https://colab.research.google.com/assets/colab-badge.svg\" alt=\"Open In Colab\"/></a>"
      ]
    },
    {
      "cell_type": "code",
      "metadata": {
        "colab": {
          "base_uri": "https://localhost:8080/"
        },
        "id": "ValKVYeJtsHK",
        "outputId": "4190d192-0abc-4ae0-c6ad-bce83a438d37"
      },
      "source": [
        "for i in range(int(input(\"\"))):\n",
        "    num, c = int(input(\"\")), 0\n",
        "    if num <= 3:\n",
        "        print(\"Prime\")\n",
        "    else:\n",
        "        for i in range(2, int(pow(num, 1/2)) + 1):\n",
        "            if num%i == 0:\n",
        "                c += 1\n",
        "                break\n",
        "        print(\"%sPrime\" %(\"Not \" if c == 1 else \"\"))"
      ],
      "execution_count": 1,
      "outputs": [
        {
          "output_type": "stream",
          "text": [
            "3\n",
            "123321\n",
            "Not Prime\n",
            "123\n",
            "Not Prime\n",
            "103\n",
            "Prime\n"
          ],
          "name": "stdout"
        }
      ]
    }
  ]
}