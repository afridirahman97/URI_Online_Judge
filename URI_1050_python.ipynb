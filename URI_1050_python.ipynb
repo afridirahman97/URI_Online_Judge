{
  "nbformat": 4,
  "nbformat_minor": 0,
  "metadata": {
    "colab": {
      "name": "URI_1050_python.ipynb",
      "provenance": [],
      "authorship_tag": "ABX9TyN+wIr5oVA/9zJSJbwDxCnM",
      "include_colab_link": true
    },
    "kernelspec": {
      "name": "python3",
      "display_name": "Python 3"
    },
    "language_info": {
      "name": "python"
    }
  },
  "cells": [
    {
      "cell_type": "markdown",
      "metadata": {
        "id": "view-in-github",
        "colab_type": "text"
      },
      "source": [
        "<a href=\"https://colab.research.google.com/github/afridirahman97/URI_Online_Judge/blob/master/URI_1050_python.ipynb\" target=\"_parent\"><img src=\"https://colab.research.google.com/assets/colab-badge.svg\" alt=\"Open In Colab\"/></a>"
      ]
    },
    {
      "cell_type": "code",
      "metadata": {
        "colab": {
          "base_uri": "https://localhost:8080/"
        },
        "id": "5TajlWDGpYFb",
        "outputId": "039e31c6-d8b7-47e6-e410-556e3e33a82e"
      },
      "source": [
        "user_input = int(input())\n",
        "\n",
        "if user_input == 61:\n",
        "  print('Brasilia') \n",
        "elif user_input == 71:\n",
        "  print('Salvador')\n",
        "elif user_input == 11:\n",
        "  print('Sao Paulo')\n",
        "elif user_input == 21:\n",
        "  print('Rio de Janeiro')\n",
        "elif user_input == 32:\n",
        "  print('Juiz de Fora')\n",
        "elif user_input == 19:\n",
        "  print('Campinas')\n",
        "elif user_input == 27:\n",
        "  print('Vitoria')\n",
        "elif user_input == 31:\n",
        "  print('Belo Horizonte')\n",
        "else:\n",
        "  print('DDD nao cadastrado')"
      ],
      "execution_count": 1,
      "outputs": [
        {
          "output_type": "stream",
          "text": [
            "11\n",
            "Sao Paulo\n"
          ],
          "name": "stdout"
        }
      ]
    }
  ]
}