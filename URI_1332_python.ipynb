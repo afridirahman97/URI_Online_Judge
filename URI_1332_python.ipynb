{
  "nbformat": 4,
  "nbformat_minor": 0,
  "metadata": {
    "colab": {
      "name": "URI_1332_python.ipynb",
      "provenance": [],
      "authorship_tag": "ABX9TyNi/+cqLsG+9Y2pqCxCXZXk",
      "include_colab_link": true
    },
    "kernelspec": {
      "name": "python3",
      "display_name": "Python 3"
    },
    "language_info": {
      "name": "python"
    }
  },
  "cells": [
    {
      "cell_type": "markdown",
      "metadata": {
        "id": "view-in-github",
        "colab_type": "text"
      },
      "source": [
        "<a href=\"https://colab.research.google.com/github/afridirahman97/URI_Online_Judge/blob/master/URI_1332_python.ipynb\" target=\"_parent\"><img src=\"https://colab.research.google.com/assets/colab-badge.svg\" alt=\"Open In Colab\"/></a>"
      ]
    },
    {
      "cell_type": "code",
      "metadata": {
        "colab": {
          "base_uri": "https://localhost:8080/"
        },
        "id": "PM33YrkcvjXn",
        "outputId": "96b16efa-e242-4a1f-ba8a-920922b89fed"
      },
      "source": [
        "for i in range(int(input(\"\"))):\n",
        "    s = input(\"\")\n",
        "    print((1 if len([1 for i in range(3) if s[i] == \"one\"[i]]) >= 2 else 2) if len(s) == 3 else 3)"
      ],
      "execution_count": 1,
      "outputs": [
        {
          "output_type": "stream",
          "text": [
            "3\n",
            "owe\n",
            "1\n",
            "too\n",
            "2\n",
            "theee\n",
            "3\n"
          ],
          "name": "stdout"
        }
      ]
    }
  ]
}