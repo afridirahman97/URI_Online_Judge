{
  "nbformat": 4,
  "nbformat_minor": 0,
  "metadata": {
    "colab": {
      "name": "URI_3170_python.ipynb",
      "provenance": [],
      "authorship_tag": "ABX9TyPS1hV/zDA+qiEDMUxt0NHk",
      "include_colab_link": true
    },
    "kernelspec": {
      "name": "python3",
      "display_name": "Python 3"
    },
    "language_info": {
      "name": "python"
    }
  },
  "cells": [
    {
      "cell_type": "markdown",
      "metadata": {
        "id": "view-in-github",
        "colab_type": "text"
      },
      "source": [
        "<a href=\"https://colab.research.google.com/github/afridirahman97/URI_Online_Judge/blob/master/URI_3170_python.ipynb\" target=\"_parent\"><img src=\"https://colab.research.google.com/assets/colab-badge.svg\" alt=\"Open In Colab\"/></a>"
      ]
    },
    {
      "cell_type": "code",
      "metadata": {
        "colab": {
          "base_uri": "https://localhost:8080/"
        },
        "id": "SG0xnDqkWWbD",
        "outputId": "148c4140-c3d1-4215-f84c-2fe2ea33b2f2"
      },
      "source": [
        "a = input()\n",
        "b = input()\n",
        "\n",
        "require = 0\n",
        "need_ball = int(a)\n",
        "branch = int(b)\n",
        "\n",
        "new_ball = (branch/2)\n",
        "\n",
        "new_ball = round(new_ball)\n",
        "\n",
        "if (need_ball < new_ball):\n",
        "   require = (new_ball - need_ball)\n",
        "   print(\"Faltam\",require,\"bolinha(s)\")\n",
        "else:\n",
        "  print(\"Amelia tem todas bolinhas!\")\n",
        "\n"
      ],
      "execution_count": 8,
      "outputs": [
        {
          "output_type": "stream",
          "text": [
            "300\n",
            "600\n",
            "Amelia tem todas bolinhas!\n"
          ],
          "name": "stdout"
        }
      ]
    }
  ]
}