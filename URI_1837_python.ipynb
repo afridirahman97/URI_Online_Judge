{
  "nbformat": 4,
  "nbformat_minor": 0,
  "metadata": {
    "colab": {
      "name": "URI_1837_python.ipynb",
      "provenance": [],
      "authorship_tag": "ABX9TyPD0AeCC/iFUOrW+4UOdplX",
      "include_colab_link": true
    },
    "kernelspec": {
      "name": "python3",
      "display_name": "Python 3"
    },
    "language_info": {
      "name": "python"
    }
  },
  "cells": [
    {
      "cell_type": "markdown",
      "metadata": {
        "id": "view-in-github",
        "colab_type": "text"
      },
      "source": [
        "<a href=\"https://colab.research.google.com/github/afridirahman97/URI_Online_Judge/blob/master/URI_1837_python.ipynb\" target=\"_parent\"><img src=\"https://colab.research.google.com/assets/colab-badge.svg\" alt=\"Open In Colab\"/></a>"
      ]
    },
    {
      "cell_type": "code",
      "metadata": {
        "colab": {
          "base_uri": "https://localhost:8080/"
        },
        "id": "1X3CvtlP6Ott",
        "outputId": "1883e33f-ba23-47af-b866-712516d02e96"
      },
      "source": [
        "a, b = [int(x) for x in input().split()]\n",
        "for r in range(abs(b)):\n",
        "    if ((a - r) % b) == 0:\n",
        "        q = int((a - r)/b)\n",
        "        break\n",
        "print(q, r)"
      ],
      "execution_count": 2,
      "outputs": [
        {
          "output_type": "stream",
          "text": [
            "7 -3\n",
            "-2 1\n"
          ],
          "name": "stdout"
        }
      ]
    }
  ]
}