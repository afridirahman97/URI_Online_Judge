{
  "nbformat": 4,
  "nbformat_minor": 0,
  "metadata": {
    "colab": {
      "name": "URI_2950_python.ipynb",
      "provenance": [],
      "authorship_tag": "ABX9TyO3/mo3TuNDcdCLqj8/LmGK",
      "include_colab_link": true
    },
    "kernelspec": {
      "name": "python3",
      "display_name": "Python 3"
    },
    "language_info": {
      "name": "python"
    }
  },
  "cells": [
    {
      "cell_type": "markdown",
      "metadata": {
        "id": "view-in-github",
        "colab_type": "text"
      },
      "source": [
        "<a href=\"https://colab.research.google.com/github/afridirahman97/URI_Online_Judge/blob/master/URI_2950_python.ipynb\" target=\"_parent\"><img src=\"https://colab.research.google.com/assets/colab-badge.svg\" alt=\"Open In Colab\"/></a>"
      ]
    },
    {
      "cell_type": "code",
      "metadata": {
        "colab": {
          "base_uri": "https://localhost:8080/"
        },
        "id": "T3KGtMzkbSeR",
        "outputId": "129bd818-e2e8-4c3c-9351-4bd7a21d6cd8"
      },
      "source": [
        "N, X, Y = map(int, input().split())\n",
        "\n",
        "print(\"{:.2f}\".format((N/(X+Y))))"
      ],
      "execution_count": 1,
      "outputs": [
        {
          "output_type": "stream",
          "name": "stdout",
          "text": [
            "100 2 2 \n",
            "25.00\n"
          ]
        }
      ]
    }
  ]
}