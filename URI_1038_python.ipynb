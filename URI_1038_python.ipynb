{
  "nbformat": 4,
  "nbformat_minor": 0,
  "metadata": {
    "colab": {
      "name": "URI_1038_python.ipynb",
      "provenance": [],
      "collapsed_sections": [],
      "authorship_tag": "ABX9TyN0R38f26r+Yk92aEWW36ak",
      "include_colab_link": true
    },
    "kernelspec": {
      "name": "python3",
      "display_name": "Python 3"
    },
    "language_info": {
      "name": "python"
    }
  },
  "cells": [
    {
      "cell_type": "markdown",
      "metadata": {
        "id": "view-in-github",
        "colab_type": "text"
      },
      "source": [
        "<a href=\"https://colab.research.google.com/github/afridirahman97/URI_Online_Judge/blob/master/URI_1038_python.ipynb\" target=\"_parent\"><img src=\"https://colab.research.google.com/assets/colab-badge.svg\" alt=\"Open In Colab\"/></a>"
      ]
    },
    {
      "cell_type": "code",
      "metadata": {
        "colab": {
          "base_uri": "https://localhost:8080/"
        },
        "id": "qUGqmu0Y-IrO",
        "outputId": "a8171ccb-1903-470d-8045-38bd0f61e802"
      },
      "source": [
        "a=input()\n",
        "b=input()\n",
        "\n",
        "x_one_cat = 1\n",
        "x_two_cat = 2\n",
        "x_three_cat = 3\n",
        "x_four_cat = 4\n",
        "x_five_cat = 5\n",
        "\n",
        "\n",
        "x_int = int(a)\n",
        "y_int = int(b)\n",
        "\n",
        "random=0\n",
        "cal=0\n",
        "total=0\n",
        "float_total = float(total)\n",
        "cal_f = float(random)\n",
        "\n",
        "if (x_int==x_one_cat):\n",
        "  cal=4\n",
        "  float_total=float(y_int*cal)\n",
        "elif (x_int==x_two_cat):\n",
        "  cal_f=4.50\n",
        "  float_total=float(y_int*cal_f)\n",
        "elif (x_int==x_three_cat):\n",
        "  cal=5\n",
        "  float_total=float(y_int*cal)\n",
        "elif (x_int==x_four_cat):\n",
        "  cal=2\n",
        "  float_total=float(y_int*cal)\n",
        "elif (x_int==x_two_cat):\n",
        "  cal_f=1.50\n",
        "  float_total=float(y_int*cal_f)\n",
        "        \n",
        "\n",
        "print(\"Total: R$\",format(float_total, \".2f\"))\n"
      ],
      "execution_count": 39,
      "outputs": [
        {
          "output_type": "stream",
          "text": [
            "3\n",
            "2\n",
            "Total: R$ 10.00\n"
          ],
          "name": "stdout"
        }
      ]
    }
  ]
}