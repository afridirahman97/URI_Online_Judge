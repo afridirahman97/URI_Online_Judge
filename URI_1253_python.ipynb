{
  "nbformat": 4,
  "nbformat_minor": 0,
  "metadata": {
    "colab": {
      "name": "URI_1253_python.ipynb",
      "provenance": [],
      "authorship_tag": "ABX9TyMbiO+2fWqKLuNiS9r6xWwQ",
      "include_colab_link": true
    },
    "kernelspec": {
      "name": "python3",
      "display_name": "Python 3"
    },
    "language_info": {
      "name": "python"
    }
  },
  "cells": [
    {
      "cell_type": "markdown",
      "metadata": {
        "id": "view-in-github",
        "colab_type": "text"
      },
      "source": [
        "<a href=\"https://colab.research.google.com/github/afridirahman97/URI_Online_Judge/blob/master/URI_1253_python.ipynb\" target=\"_parent\"><img src=\"https://colab.research.google.com/assets/colab-badge.svg\" alt=\"Open In Colab\"/></a>"
      ]
    },
    {
      "cell_type": "code",
      "metadata": {
        "colab": {
          "base_uri": "https://localhost:8080/"
        },
        "id": "CESJ0jVGyDrE",
        "outputId": "e0981c0e-9611-4d3c-dc51-155703de6358"
      },
      "source": [
        "Caesar = int(input())\n",
        "\n",
        "for i in range(Caesar):\n",
        "    texto = input()\n",
        "    Caesar = int(input())\n",
        "    t_new = ''\n",
        "    for l in texto:\n",
        "        posicao = ord(l)-Caesar\n",
        "\n",
        "        if(posicao < 65):\n",
        "            t_new += chr(91-(65-posicao))\n",
        "        else:\n",
        "            t_new += chr(ord(l)-Caesar)\n",
        "    print(t_new)"
      ],
      "execution_count": 2,
      "outputs": [
        {
          "output_type": "stream",
          "text": [
            "6\n",
            "VQREQFGT\n",
            "2\n",
            "TOPCODER\n",
            "ABCDEFGHIJKLMNOPQRSTUVWXYZ\n",
            "10\n",
            "QRSTUVWXYZABCDEFGHIJKLMNOP\n",
            "TOPCODER\n",
            "0\n",
            "TOPCODER\n",
            "ZWBGLZ\n",
            "15\n",
            "KHMRWK\n",
            "DBNPCBQ\n",
            "1\n",
            "CAMOBAP\n",
            "LIPPSASVPH\n",
            "4\n",
            "HELLOWORLD\n"
          ],
          "name": "stdout"
        }
      ]
    }
  ]
}