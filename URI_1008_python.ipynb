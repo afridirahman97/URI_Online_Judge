{
  "nbformat": 4,
  "nbformat_minor": 0,
  "metadata": {
    "colab": {
      "name": "URI_1008_python.ipynb",
      "provenance": [],
      "authorship_tag": "ABX9TyM/DVHEV7dds2v7HitfRwRF",
      "include_colab_link": true
    },
    "kernelspec": {
      "name": "python3",
      "display_name": "Python 3"
    },
    "language_info": {
      "name": "python"
    }
  },
  "cells": [
    {
      "cell_type": "markdown",
      "metadata": {
        "id": "view-in-github",
        "colab_type": "text"
      },
      "source": [
        "<a href=\"https://colab.research.google.com/github/afridirahman97/URI_Online_Judge/blob/master/URI_1008_python.ipynb\" target=\"_parent\"><img src=\"https://colab.research.google.com/assets/colab-badge.svg\" alt=\"Open In Colab\"/></a>"
      ]
    },
    {
      "cell_type": "code",
      "metadata": {
        "colab": {
          "base_uri": "https://localhost:8080/"
        },
        "id": "bWs48U28py68",
        "outputId": "90b13ed6-b938-472f-e79f-808e174edd1d"
      },
      "source": [
        "numfunc = int(input())\n",
        "hrtrab = int(input())\n",
        "valorhr = float(input())\n",
        "\n",
        "salario = float(hrtrab * valorhr)\n",
        "\n",
        "print(\"NUMBER = %d\" %numfunc)\n",
        "print(\"SALARY = U$ %0.2f\" %salario)"
      ],
      "execution_count": 1,
      "outputs": [
        {
          "output_type": "stream",
          "text": [
            "25\n",
            "100\n",
            "5.50\n",
            "NUMBER = 25\n",
            "SALARY = U$ 550.00\n"
          ],
          "name": "stdout"
        }
      ]
    }
  ]
}