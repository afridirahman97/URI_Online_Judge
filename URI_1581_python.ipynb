{
  "nbformat": 4,
  "nbformat_minor": 0,
  "metadata": {
    "colab": {
      "name": "URI_1581_python.ipynb",
      "provenance": [],
      "authorship_tag": "ABX9TyPqMA9RL60Ijxfj+1MENC19",
      "include_colab_link": true
    },
    "kernelspec": {
      "name": "python3",
      "display_name": "Python 3"
    },
    "language_info": {
      "name": "python"
    }
  },
  "cells": [
    {
      "cell_type": "markdown",
      "metadata": {
        "id": "view-in-github",
        "colab_type": "text"
      },
      "source": [
        "<a href=\"https://colab.research.google.com/github/afridirahman97/URI_Online_Judge/blob/master/URI_1581_python.ipynb\" target=\"_parent\"><img src=\"https://colab.research.google.com/assets/colab-badge.svg\" alt=\"Open In Colab\"/></a>"
      ]
    },
    {
      "cell_type": "code",
      "metadata": {
        "colab": {
          "base_uri": "https://localhost:8080/"
        },
        "id": "85c39UaswZIg",
        "outputId": "2ea4a824-7f2f-43ad-e373-83e0fd23db0d"
      },
      "source": [
        "for i in range(int(input(\"\"))):\n",
        "    l = []\n",
        "    for j in range(int(input(\"\"))):\n",
        "        l.append(input(\"\"))\n",
        "    c = l[0]\n",
        "    for j in range(len(l) - 1):\n",
        "        if l[j] != l[j+1]:\n",
        "            c = \"ingles\"\n",
        "            break\n",
        "    print(c)"
      ],
      "execution_count": 1,
      "outputs": [
        {
          "output_type": "stream",
          "text": [
            "2\n",
            "3\n",
            "portugues\n",
            "chines\n",
            "portugues\n",
            "ingles\n",
            "2\n",
            "espanhol\n",
            "espanhol\n",
            "espanhol\n"
          ],
          "name": "stdout"
        }
      ]
    }
  ]
}