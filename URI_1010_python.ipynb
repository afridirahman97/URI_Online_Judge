{
  "nbformat": 4,
  "nbformat_minor": 0,
  "metadata": {
    "colab": {
      "name": "URI_1010_python.ipynb",
      "provenance": [],
      "authorship_tag": "ABX9TyNIB706FiaPen36d4kRDiAB",
      "include_colab_link": true
    },
    "kernelspec": {
      "name": "python3",
      "display_name": "Python 3"
    },
    "language_info": {
      "name": "python"
    }
  },
  "cells": [
    {
      "cell_type": "markdown",
      "metadata": {
        "id": "view-in-github",
        "colab_type": "text"
      },
      "source": [
        "<a href=\"https://colab.research.google.com/github/afridirahman97/URI_Online_Judge/blob/master/URI_1010_python.ipynb\" target=\"_parent\"><img src=\"https://colab.research.google.com/assets/colab-badge.svg\" alt=\"Open In Colab\"/></a>"
      ]
    },
    {
      "cell_type": "code",
      "metadata": {
        "colab": {
          "base_uri": "https://localhost:8080/"
        },
        "id": "LUhCViWvsDZ-",
        "outputId": "f49809b4-8340-4dc2-f16e-4019988240fb"
      },
      "source": [
        "line1 = input().split(\" \")\n",
        "line2 = input().split(\" \")\n",
        "\n",
        "cod1, qtde1, value1 = line1\n",
        "cod2, qtde2, value2 = line2\n",
        "\n",
        "total = (int(qtde1) * float(value1)) + (int(qtde2) * float(value2))\n",
        "\n",
        "print(\"VALOR A PAGAR: R$ %0.2f\" %total)"
      ],
      "execution_count": 1,
      "outputs": [
        {
          "output_type": "stream",
          "text": [
            "12 1 5.30\n",
            "16 2 5.10\n",
            "VALOR A PAGAR: R$ 15.50\n"
          ],
          "name": "stdout"
        }
      ]
    }
  ]
}