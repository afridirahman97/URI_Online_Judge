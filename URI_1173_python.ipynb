{
  "nbformat": 4,
  "nbformat_minor": 0,
  "metadata": {
    "colab": {
      "name": "URI_1173_python.ipynb",
      "provenance": [],
      "authorship_tag": "ABX9TyPLLq8DqO/eiCnxr74vgjGf",
      "include_colab_link": true
    },
    "kernelspec": {
      "name": "python3",
      "display_name": "Python 3"
    },
    "language_info": {
      "name": "python"
    }
  },
  "cells": [
    {
      "cell_type": "markdown",
      "metadata": {
        "id": "view-in-github",
        "colab_type": "text"
      },
      "source": [
        "<a href=\"https://colab.research.google.com/github/afridirahman97/URI_Online_Judge/blob/master/URI_1173_python.ipynb\" target=\"_parent\"><img src=\"https://colab.research.google.com/assets/colab-badge.svg\" alt=\"Open In Colab\"/></a>"
      ]
    },
    {
      "cell_type": "code",
      "metadata": {
        "colab": {
          "base_uri": "https://localhost:8080/"
        },
        "id": "GCcqzsSvI8zR",
        "outputId": "b2ca4361-ed37-4145-aff1-69a78196192f"
      },
      "source": [
        "value = int(input())\n",
        "print(\"N[%d] = %d\" %(0,value))\n",
        "for i in range(1,10):    \n",
        "    value *= 2\n",
        "    print(\"N[%d] = %d\" %(i,value))"
      ],
      "execution_count": 3,
      "outputs": [
        {
          "output_type": "stream",
          "text": [
            "1\n",
            "N[0] = 1\n",
            "N[1] = 2\n",
            "N[2] = 4\n",
            "N[3] = 8\n",
            "N[4] = 16\n",
            "N[5] = 32\n",
            "N[6] = 64\n",
            "N[7] = 128\n",
            "N[8] = 256\n",
            "N[9] = 512\n"
          ],
          "name": "stdout"
        }
      ]
    }
  ]
}