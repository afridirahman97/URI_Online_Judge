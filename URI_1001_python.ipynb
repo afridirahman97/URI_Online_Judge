{
  "nbformat": 4,
  "nbformat_minor": 0,
  "metadata": {
    "colab": {
      "name": "URI_1001_python.ipynb",
      "provenance": [],
      "authorship_tag": "ABX9TyPliFsIMnneR86o2uNTRjeW",
      "include_colab_link": true
    },
    "kernelspec": {
      "name": "python3",
      "display_name": "Python 3"
    },
    "language_info": {
      "name": "python"
    }
  },
  "cells": [
    {
      "cell_type": "markdown",
      "metadata": {
        "id": "view-in-github",
        "colab_type": "text"
      },
      "source": [
        "<a href=\"https://colab.research.google.com/github/afridirahman97/URI_Online_Judge/blob/master/URI_1001_python.ipynb\" target=\"_parent\"><img src=\"https://colab.research.google.com/assets/colab-badge.svg\" alt=\"Open In Colab\"/></a>"
      ]
    },
    {
      "cell_type": "code",
      "metadata": {
        "colab": {
          "base_uri": "https://localhost:8080/"
        },
        "id": "log_tLnhTkkI",
        "outputId": "4ac26e73-9d14-44d9-a879-ffae916fe876"
      },
      "source": [
        "a = input()\n",
        "b = input()\n",
        "X = int(a) + int(b)\n",
        "print (\"X =\",X)"
      ],
      "execution_count": null,
      "outputs": [
        {
          "output_type": "stream",
          "text": [
            "-10\n",
            "4\n",
            "X = -6\n"
          ],
          "name": "stdout"
        }
      ]
    }
  ]
}