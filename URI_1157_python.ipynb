{
  "nbformat": 4,
  "nbformat_minor": 0,
  "metadata": {
    "colab": {
      "name": "URI_1157_python.ipynb",
      "provenance": [],
      "authorship_tag": "ABX9TyMbWDI4LhMYiArPumii8t+z",
      "include_colab_link": true
    },
    "kernelspec": {
      "name": "python3",
      "display_name": "Python 3"
    },
    "language_info": {
      "name": "python"
    }
  },
  "cells": [
    {
      "cell_type": "markdown",
      "metadata": {
        "id": "view-in-github",
        "colab_type": "text"
      },
      "source": [
        "<a href=\"https://colab.research.google.com/github/afridirahman97/URI_Online_Judge/blob/master/URI_1157_python.ipynb\" target=\"_parent\"><img src=\"https://colab.research.google.com/assets/colab-badge.svg\" alt=\"Open In Colab\"/></a>"
      ]
    },
    {
      "cell_type": "code",
      "metadata": {
        "colab": {
          "base_uri": "https://localhost:8080/"
        },
        "id": "rb9zSUDZajiE",
        "outputId": "9cda6838-fb30-4974-e1e9-1fec6b4da1ad"
      },
      "source": [
        "N = int(input())\n",
        "i = 1 \n",
        "\n",
        "while i<=N:\n",
        "    if(N%i==0):\n",
        "        print(i)\n",
        "    i+=1"
      ],
      "execution_count": 1,
      "outputs": [
        {
          "output_type": "stream",
          "name": "stdout",
          "text": [
            "6\n",
            "1\n",
            "2\n",
            "3\n",
            "6\n"
          ]
        }
      ]
    }
  ]
}