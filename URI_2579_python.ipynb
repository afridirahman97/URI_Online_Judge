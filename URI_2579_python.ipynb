{
  "nbformat": 4,
  "nbformat_minor": 0,
  "metadata": {
    "colab": {
      "name": "URI_2579_python.ipynb",
      "provenance": [],
      "authorship_tag": "ABX9TyOpYQs1JsInOHnzSxb6jFrn",
      "include_colab_link": true
    },
    "kernelspec": {
      "name": "python3",
      "display_name": "Python 3"
    },
    "language_info": {
      "name": "python"
    }
  },
  "cells": [
    {
      "cell_type": "markdown",
      "metadata": {
        "id": "view-in-github",
        "colab_type": "text"
      },
      "source": [
        "<a href=\"https://colab.research.google.com/github/afridirahman97/beecrowd/blob/master/URI_2579_python.ipynb\" target=\"_parent\"><img src=\"https://colab.research.google.com/assets/colab-badge.svg\" alt=\"Open In Colab\"/></a>"
      ]
    },
    {
      "cell_type": "code",
      "execution_count": 1,
      "metadata": {
        "colab": {
          "base_uri": "https://localhost:8080/"
        },
        "id": "79PUA5rRHzrm",
        "outputId": "bdcaad2a-48af-43c5-d700-f285e0ef755e"
      },
      "outputs": [
        {
          "output_type": "stream",
          "name": "stdout",
          "text": [
            "2 3 0 1\n",
            "Esquerda\n"
          ]
        }
      ],
      "source": [
        "a,b,c,d=map(int,input().split())\n",
        "c+=1\n",
        "d+=1\n",
        "r=c-1\n",
        "r*=b\n",
        "r+=d\n",
        "print('Direita') if r&1 else print('Esquerda')"
      ]
    }
  ]
}