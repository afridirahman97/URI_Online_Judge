{
  "nbformat": 4,
  "nbformat_minor": 0,
  "metadata": {
    "colab": {
      "name": "URI_1004_python.ipynb",
      "provenance": [],
      "authorship_tag": "ABX9TyPYYr1WJOwL9A6OxufY0pt2",
      "include_colab_link": true
    },
    "kernelspec": {
      "name": "python3",
      "display_name": "Python 3"
    },
    "language_info": {
      "name": "python"
    }
  },
  "cells": [
    {
      "cell_type": "markdown",
      "metadata": {
        "id": "view-in-github",
        "colab_type": "text"
      },
      "source": [
        "<a href=\"https://colab.research.google.com/github/afridirahman97/URI_Online_Judge/blob/master/URI_1004_python.ipynb\" target=\"_parent\"><img src=\"https://colab.research.google.com/assets/colab-badge.svg\" alt=\"Open In Colab\"/></a>"
      ]
    },
    {
      "cell_type": "code",
      "metadata": {
        "colab": {
          "base_uri": "https://localhost:8080/"
        },
        "id": "f_pmPk6Bagyb",
        "outputId": "0f5bf85d-ab9e-48a4-acc7-39098f3c288c"
      },
      "source": [
        "a = input()\n",
        "b = input()\n",
        "X = int(a) * int(b)\n",
        "print (\"PROD =\",X)"
      ],
      "execution_count": 1,
      "outputs": [
        {
          "output_type": "stream",
          "text": [
            "3\n",
            "9\n",
            "PROD = 27\n"
          ],
          "name": "stdout"
        }
      ]
    }
  ]
}